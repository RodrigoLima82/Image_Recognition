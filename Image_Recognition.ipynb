{
 "cells": [
  {
   "cell_type": "code",
   "execution_count": null,
   "metadata": {},
   "outputs": [],
   "source": [
    "# Indexing\n",
    "from os import listdir\n",
    "from os.path import isfile, join\n",
    "import sys\n",
    "import warnings\n",
    "warnings.filterwarnings('ignore')\n",
    "\n",
    "from elasticsearch import Elasticsearch\n",
    "from image_match.elasticsearch_driver import SignatureES\n",
    "\n",
    "\n",
    "es = Elasticsearch()\n",
    "es.indices.delete(index='index', ignore=[400, 404])\n",
    "ses = SignatureES(es, index='index')\n",
    "\n",
    "files = [file for file in listdir('images') if isfile(join('images', file))]\n",
    "\n",
    "for f in files:\n",
    "    file_path = os.path.abspath('images/'+f)\n",
    "    try:\n",
    "        ses.add_image(file_path)\n",
    "    except:\n",
    "        print(\"Erro no arquivo: \" + file_path)\n",
    "        continue\n"
   ]
  },
  {
   "cell_type": "code",
   "execution_count": null,
   "metadata": {
    "scrolled": true
   },
   "outputs": [],
   "source": [
    "# Making a target image\n",
    "import pandas as pd\n",
    "import matplotlib.pyplot as plt\n",
    "\n",
    "from PIL import Image\n",
    "import numpy as np\n",
    "import warnings\n",
    "\n",
    "from PyQt5.QtWidgets import QFileDialog\n",
    "\n",
    "%matplotlib inline\n",
    "\n",
    "warnings.filterwarnings('ignore')\n",
    "\n",
    "#%gui qt\n",
    "\n",
    "def gui_fname(dir=None):\n",
    "    \"\"\"Select a file via a dialog and return the file name.\"\"\"\n",
    "    if dir is None: \n",
    "        dir ='./'\n",
    "    fname = QFileDialog.getOpenFileName(None, \"Select data file...\", dir, filter=\"All files (*);;\")\n",
    "    return fname[0]\n",
    "\n",
    "file_path = 'images/5132475_VERMELHO.jpeg'\n",
    "#file_path = 'images/5132473_AZUL.jpeg' \n",
    "#file_path = 'images/5132431_BEGE.png'\n",
    "\n",
    "\n",
    "print('Procurando: '+file_path)\n",
    "imageTarget = Image.open(file_path, 'r')\n",
    "plt.figure()\n",
    "plt.imshow(np.asarray(imageTarget))\n"
   ]
  },
  {
   "cell_type": "code",
   "execution_count": null,
   "metadata": {},
   "outputs": [],
   "source": [
    "# Searching for other images\n",
    "import pandas as pd\n",
    "import matplotlib.pyplot as plt\n",
    "%matplotlib inline\n",
    "from PIL import Image\n",
    "import numpy as np\n",
    "import warnings\n",
    "warnings.filterwarnings('ignore')\n",
    "\n",
    "from elasticsearch import Elasticsearch\n",
    "from image_match.elasticsearch_driver import SignatureES\n",
    "\n",
    "es = Elasticsearch()\n",
    "ses = SignatureES(es, index='index')\n",
    "\n",
    "result = ses.search_image(file_path, all_orientations=True)\n",
    "print(\"Quantidade de imagens similares encontradas:\" + str(len(result)))\n",
    "\n",
    "for i in result:    \n",
    "    path  = i[\"path\"]\n",
    "    dist  = i[\"dist\"]\n",
    "    score = i[\"score\"]\n",
    "    \n",
    "    print(\"Imagem: \" + path[82:])\n",
    "    print(\"Dist: \" + str(dist))\n",
    "    print(\"Score: \" + str(score))\n",
    "    print(\"=============================\")\n",
    "\n",
    "    imageCompare = Image.open(path, 'r')\n",
    "    imageCompare = imageCompare.resize((150, 150))\n",
    "    display(imageCompare)\n"
   ]
  },
  {
   "cell_type": "code",
   "execution_count": null,
   "metadata": {},
   "outputs": [],
   "source": []
  }
 ],
 "metadata": {
  "kernelspec": {
   "display_name": "Python 3",
   "language": "python",
   "name": "python3"
  },
  "language_info": {
   "codemirror_mode": {
    "name": "ipython",
    "version": 3
   },
   "file_extension": ".py",
   "mimetype": "text/x-python",
   "name": "python",
   "nbconvert_exporter": "python",
   "pygments_lexer": "ipython3",
   "version": "3.7.3"
  }
 },
 "nbformat": 4,
 "nbformat_minor": 2
}
