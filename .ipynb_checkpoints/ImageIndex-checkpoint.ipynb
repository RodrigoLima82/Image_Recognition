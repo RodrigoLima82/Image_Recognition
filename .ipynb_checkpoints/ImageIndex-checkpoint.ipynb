{
 "cells": [
  {
   "cell_type": "code",
   "execution_count": 6,
   "metadata": {},
   "outputs": [
    {
     "data": {
      "text/plain": [
       "[{'id': 'Dcu3LWsBw8dpTzCSChxG',\n",
       "  'score': 63.0,\n",
       "  'metadata': None,\n",
       "  'path': 'ImagensOriginais/Alex.jpg',\n",
       "  'dist': 0.0},\n",
       " {'id': 'EMu3LWsBw8dpTzCSVBzW',\n",
       "  'score': 63.0,\n",
       "  'metadata': None,\n",
       "  'path': 'ImagensOriginais/Alex.jpg',\n",
       "  'dist': 0.0},\n",
       " {'id': 'Bsu1LWsBw8dpTzCSwBw2',\n",
       "  'score': 63.0,\n",
       "  'metadata': None,\n",
       "  'path': 'ImagensOriginais/Alex.jpg',\n",
       "  'dist': 0.0},\n",
       " {'id': 'CMu2LWsBw8dpTzCSiRyB',\n",
       "  'score': 63.0,\n",
       "  'metadata': None,\n",
       "  'path': 'ImagensOriginais/Alex.jpg',\n",
       "  'dist': 0.0},\n",
       " {'id': 'Csu2LWsBw8dpTzCS2hxG',\n",
       "  'score': 63.0,\n",
       "  'metadata': None,\n",
       "  'path': 'ImagensOriginais/Alex.jpg',\n",
       "  'dist': 0.0},\n",
       " {'id': 'E8u3LWsBw8dpTzCSZByb',\n",
       "  'score': 63.0,\n",
       "  'metadata': None,\n",
       "  'path': 'ImagensOriginais/Alex.jpg',\n",
       "  'dist': 0.0}]"
      ]
     },
     "execution_count": 6,
     "metadata": {},
     "output_type": "execute_result"
    }
   ],
   "source": [
    "from elasticsearch import Elasticsearch\n",
    "from image_match.elasticsearch_driver import SignatureES\n",
    "\n",
    "es = Elasticsearch()\n",
    "ses = SignatureES(es)\n",
    "\n",
    "ses.add_image('ImagensOriginais/Alex.jpg')\n",
    "ses.add_image('ImagensOriginais/Joao.jpg')\n",
    "ses.add_image('ImagensOriginais/Pedro.jpeg')\n",
    "\n",
    "ses.search_image('ImagensOriginais/Alex.jpg')"
   ]
  },
  {
   "cell_type": "code",
   "execution_count": null,
   "metadata": {},
   "outputs": [],
   "source": []
  }
 ],
 "metadata": {
  "kernelspec": {
   "display_name": "Python 3",
   "language": "python",
   "name": "python3"
  },
  "language_info": {
   "codemirror_mode": {
    "name": "ipython",
    "version": 3
   },
   "file_extension": ".py",
   "mimetype": "text/x-python",
   "name": "python",
   "nbconvert_exporter": "python",
   "pygments_lexer": "ipython3",
   "version": "3.7.3"
  }
 },
 "nbformat": 4,
 "nbformat_minor": 2
}
