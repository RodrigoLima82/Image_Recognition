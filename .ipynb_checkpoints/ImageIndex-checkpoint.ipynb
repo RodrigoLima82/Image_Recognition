{
 "cells": [
  {
   "cell_type": "code",
   "execution_count": null,
   "metadata": {},
   "outputs": [],
   "source": [
    "# Indexing\n",
    "from os import listdir\n",
    "from os.path import isfile, join\n",
    "import sys\n",
    "from elasticsearch import Elasticsearch\n",
    "from image_match.elasticsearch_driver import SignatureES\n",
    "\n",
    "es = Elasticsearch()\n",
    "ses = SignatureES(es, index='amcom', distance_cutoff=0.3)\n",
    "\n",
    "files = [file for file in listdir('ImagensOriginais') if isfile(join('ImagensOriginais', file))]\n",
    "\n",
    "for f in files:\n",
    "    file_path = os.path.abspath('ImagensOriginais/'+f)\n",
    "    print('Indexando imagem ' + file_path)\n",
    "    ses.add_image(file_path)\n"
   ]
  },
  {
   "cell_type": "code",
   "execution_count": null,
   "metadata": {},
   "outputs": [],
   "source": [
    "# Searching\n",
    "#file_path = '/Users/rodrigolima82/Dropbox/FCD/AMcom/Calcenter/Image_Recognition/ImagensOriginais/Joao.jpg'\n",
    "\n",
    "es = Elasticsearch()\n",
    "ses = SignatureES(es, index='amcom')\n",
    "\n",
    "print('Procurando a imagem')\n",
    "\n",
    "#ses.search_image('https://upload.wikimedia.org/wikipedia/commons/e/e0/Caravaggio_-_Cena_in_Emmaus.jpg')\n",
    "#ses.search_image('http://i.imgur.com/CVYBCCy.jpg')\n",
    "ses.search_image('http://i.imgur.com/T5AusYd.jpg', all_orientations=True)\n",
    "#ses.search_image(file_path, all_orientations=True)\n",
    "\n",
    "#result = ses.search_image(file_path, all_orientations=True)\n",
    "\n",
    "#with open('resultado.txt', 'w') as f:\n",
    "#    f.write(str(result))\n",
    "#    f.flush()\n"
   ]
  },
  {
   "cell_type": "code",
   "execution_count": null,
   "metadata": {},
   "outputs": [],
   "source": []
  }
 ],
 "metadata": {
  "kernelspec": {
   "display_name": "Python 3",
   "language": "python",
   "name": "python3"
  },
  "language_info": {
   "codemirror_mode": {
    "name": "ipython",
    "version": 3
   },
   "file_extension": ".py",
   "mimetype": "text/x-python",
   "name": "python",
   "nbconvert_exporter": "python",
   "pygments_lexer": "ipython3",
   "version": "3.7.3"
  }
 },
 "nbformat": 4,
 "nbformat_minor": 2
}
