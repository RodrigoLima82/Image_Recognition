{
 "cells": [
  {
   "cell_type": "code",
   "execution_count": 1,
   "metadata": {},
   "outputs": [
    {
     "name": "stdout",
     "output_type": "stream",
     "text": [
      "Indexando imagem /Users/rodrigolima82/Dropbox/FCD/AMcom/Calcenter/Image_Recognition/ImagensOriginais/Alex.jpg\n",
      "Indexando imagem /Users/rodrigolima82/Dropbox/FCD/AMcom/Calcenter/Image_Recognition/ImagensOriginais/Monalisa02.jpg\n",
      "Indexando imagem /Users/rodrigolima82/Dropbox/FCD/AMcom/Calcenter/Image_Recognition/ImagensOriginais/Pedro.jpeg\n",
      "Indexando imagem /Users/rodrigolima82/Dropbox/FCD/AMcom/Calcenter/Image_Recognition/ImagensOriginais/Monalisa03.jpg\n",
      "Indexando imagem /Users/rodrigolima82/Dropbox/FCD/AMcom/Calcenter/Image_Recognition/ImagensOriginais/Monalisa01.jpg\n",
      "Indexando imagem /Users/rodrigolima82/Dropbox/FCD/AMcom/Calcenter/Image_Recognition/ImagensOriginais/Joao.jpg\n"
     ]
    },
    {
     "name": "stderr",
     "output_type": "stream",
     "text": [
      "/anaconda3/lib/python3.7/site-packages/skimage/io/_io.py:48: UserWarning: `as_grey` has been deprecated in favor of `as_gray`\n",
      "  warn('`as_grey` has been deprecated in favor of `as_gray`')\n"
     ]
    },
    {
     "name": "stdout",
     "output_type": "stream",
     "text": [
      "Indexando imagem /Users/rodrigolima82/Dropbox/FCD/AMcom/Calcenter/Image_Recognition/ImagensOriginais/Monalisa04.jpg\n",
      "Indexando imagem /Users/rodrigolima82/Dropbox/FCD/AMcom/Calcenter/Image_Recognition/ImagensOriginais/Monalisa05.jpg\n"
     ]
    }
   ],
   "source": [
    "# Indexing\n",
    "from os import listdir\n",
    "from os.path import isfile, join\n",
    "import sys\n",
    "from elasticsearch import Elasticsearch\n",
    "from image_match.elasticsearch_driver import SignatureES\n",
    "\n",
    "es = Elasticsearch()\n",
    "ses = SignatureES(es, index='amcom', distance_cutoff=0.3)\n",
    "\n",
    "files = [file for file in listdir('ImagensOriginais') if isfile(join('ImagensOriginais', file))]\n",
    "\n",
    "for f in files:\n",
    "    file_path = os.path.abspath('ImagensOriginais/'+f)\n",
    "    print('Indexando imagem ' + file_path)\n",
    "    ses.add_image(file_path)\n"
   ]
  },
  {
   "cell_type": "code",
   "execution_count": 2,
   "metadata": {},
   "outputs": [
    {
     "name": "stdout",
     "output_type": "stream",
     "text": [
      "Procurando a imagem\n"
     ]
    },
    {
     "data": {
      "text/plain": [
       "[{'id': 'XcsxLmsBw8dpTzCSMhy8',\n",
       "  'score': 54.0,\n",
       "  'metadata': None,\n",
       "  'path': '/Users/rodrigolima82/Dropbox/FCD/AMcom/Calcenter/Image_Recognition/ImagensOriginais/Monalisa02.jpg',\n",
       "  'dist': 0.04463227282287568},\n",
       " {'id': 'bcsyLmsBw8dpTzCS8hx2',\n",
       "  'score': 54.0,\n",
       "  'metadata': None,\n",
       "  'path': '/Users/rodrigolima82/Dropbox/FCD/AMcom/Calcenter/Image_Recognition/ImagensOriginais/Monalisa02.jpg',\n",
       "  'dist': 0.04463227282287568},\n",
       " {'id': 'VcsvLmsBw8dpTzCSJhxp',\n",
       "  'score': 54.0,\n",
       "  'metadata': None,\n",
       "  'path': '/Users/rodrigolima82/Dropbox/FCD/AMcom/Calcenter/Image_Recognition/ImagensOriginais/Monalisa02.jpg',\n",
       "  'dist': 0.04463227282287568},\n",
       " {'id': 'ZcsyLmsBw8dpTzCSVhz0',\n",
       "  'score': 54.0,\n",
       "  'metadata': None,\n",
       "  'path': '/Users/rodrigolima82/Dropbox/FCD/AMcom/Calcenter/Image_Recognition/ImagensOriginais/Monalisa02.jpg',\n",
       "  'dist': 0.04463227282287568},\n",
       " {'id': 'RMshLmsBw8dpTzCSRxzf',\n",
       "  'score': 11.0,\n",
       "  'metadata': None,\n",
       "  'path': 'https://upload.wikimedia.org/wikipedia/commons/thumb/e/ec/Mona_Lisa,_by_Leonardo_da_Vinci,_from_C2RMF_retouched.jpg/687px-Mona_Lisa,_by_Leonardo_da_Vinci,_from_C2RMF_retouched.jpg',\n",
       "  'dist': 0.21904042583698308},\n",
       " {'id': 'PssgLmsBw8dpTzCSlRw2',\n",
       "  'score': 11.0,\n",
       "  'metadata': None,\n",
       "  'path': 'https://upload.wikimedia.org/wikipedia/commons/thumb/e/ec/Mona_Lisa,_by_Leonardo_da_Vinci,_from_C2RMF_retouched.jpg/687px-Mona_Lisa,_by_Leonardo_da_Vinci,_from_C2RMF_retouched.jpg',\n",
       "  'dist': 0.21904042583698308},\n",
       " {'id': 'PcsgLmsBw8dpTzCSWxyD',\n",
       "  'score': 11.0,\n",
       "  'metadata': None,\n",
       "  'path': 'https://upload.wikimedia.org/wikipedia/commons/thumb/e/ec/Mona_Lisa,_by_Leonardo_da_Vinci,_from_C2RMF_retouched.jpg/687px-Mona_Lisa,_by_Leonardo_da_Vinci,_from_C2RMF_retouched.jpg',\n",
       "  'dist': 0.21904042583698308},\n",
       " {'id': 'QcsgLmsBw8dpTzCS6Rym',\n",
       "  'score': 11.0,\n",
       "  'metadata': None,\n",
       "  'path': 'https://upload.wikimedia.org/wikipedia/commons/thumb/e/ec/Mona_Lisa,_by_Leonardo_da_Vinci,_from_C2RMF_retouched.jpg/687px-Mona_Lisa,_by_Leonardo_da_Vinci,_from_C2RMF_retouched.jpg',\n",
       "  'dist': 0.21904042583698308},\n",
       " {'id': 'assyLmsBw8dpTzCSWhzc',\n",
       "  'score': 10.0,\n",
       "  'metadata': None,\n",
       "  'path': '/Users/rodrigolima82/Dropbox/FCD/AMcom/Calcenter/Image_Recognition/ImagensOriginais/Monalisa04.jpg',\n",
       "  'dist': 0.23231251329889657},\n",
       " {'id': 'YssxLmsBw8dpTzCSNhy_',\n",
       "  'score': 10.0,\n",
       "  'metadata': None,\n",
       "  'path': '/Users/rodrigolima82/Dropbox/FCD/AMcom/Calcenter/Image_Recognition/ImagensOriginais/Monalisa04.jpg',\n",
       "  'dist': 0.23231251329889657},\n",
       " {'id': 'WssvLmsBw8dpTzCSKhxm',\n",
       "  'score': 10.0,\n",
       "  'metadata': None,\n",
       "  'path': '/Users/rodrigolima82/Dropbox/FCD/AMcom/Calcenter/Image_Recognition/ImagensOriginais/Monalisa04.jpg',\n",
       "  'dist': 0.23231251329889657},\n",
       " {'id': 'cssyLmsBw8dpTzCS9hx3',\n",
       "  'score': 10.0,\n",
       "  'metadata': None,\n",
       "  'path': '/Users/rodrigolima82/Dropbox/FCD/AMcom/Calcenter/Image_Recognition/ImagensOriginais/Monalisa04.jpg',\n",
       "  'dist': 0.23231251329889657},\n",
       " {'id': 'Y8sxLmsBw8dpTzCSNxyF',\n",
       "  'score': 10.0,\n",
       "  'metadata': None,\n",
       "  'path': '/Users/rodrigolima82/Dropbox/FCD/AMcom/Calcenter/Image_Recognition/ImagensOriginais/Monalisa05.jpg',\n",
       "  'dist': 0.2790490098866238},\n",
       " {'id': 'a8syLmsBw8dpTzCSWxyc',\n",
       "  'score': 10.0,\n",
       "  'metadata': None,\n",
       "  'path': '/Users/rodrigolima82/Dropbox/FCD/AMcom/Calcenter/Image_Recognition/ImagensOriginais/Monalisa05.jpg',\n",
       "  'dist': 0.2790490098866238},\n",
       " {'id': 'c8syLmsBw8dpTzCS9xw0',\n",
       "  'score': 10.0,\n",
       "  'metadata': None,\n",
       "  'path': '/Users/rodrigolima82/Dropbox/FCD/AMcom/Calcenter/Image_Recognition/ImagensOriginais/Monalisa05.jpg',\n",
       "  'dist': 0.2790490098866238},\n",
       " {'id': 'W8svLmsBw8dpTzCSKxwx',\n",
       "  'score': 10.0,\n",
       "  'metadata': None,\n",
       "  'path': '/Users/rodrigolima82/Dropbox/FCD/AMcom/Calcenter/Image_Recognition/ImagensOriginais/Monalisa05.jpg',\n",
       "  'dist': 0.2790490098866238},\n",
       " {'id': 'V8svLmsBw8dpTzCSJhyS',\n",
       "  'score': 5.0,\n",
       "  'metadata': None,\n",
       "  'path': '/Users/rodrigolima82/Dropbox/FCD/AMcom/Calcenter/Image_Recognition/ImagensOriginais/Monalisa03.jpg',\n",
       "  'dist': 0.4240236309268063},\n",
       " {'id': 'Q8sgLmsBw8dpTzCS8Ryd',\n",
       "  'score': 5.0,\n",
       "  'metadata': None,\n",
       "  'path': 'https://c2.staticflickr.com/8/7158/6814444991_08d82de57e_z.jpg',\n",
       "  'dist': 0.4240236309268063},\n",
       " {'id': 'Z8syLmsBw8dpTzCSVxwb',\n",
       "  'score': 5.0,\n",
       "  'metadata': None,\n",
       "  'path': '/Users/rodrigolima82/Dropbox/FCD/AMcom/Calcenter/Image_Recognition/ImagensOriginais/Monalisa03.jpg',\n",
       "  'dist': 0.4240236309268063},\n",
       " {'id': 'RsshLmsBw8dpTzCSTxyh',\n",
       "  'score': 5.0,\n",
       "  'metadata': None,\n",
       "  'path': 'https://c2.staticflickr.com/8/7158/6814444991_08d82de57e_z.jpg',\n",
       "  'dist': 0.4240236309268063},\n",
       " {'id': 'b8syLmsBw8dpTzCS8hyc',\n",
       "  'score': 5.0,\n",
       "  'metadata': None,\n",
       "  'path': '/Users/rodrigolima82/Dropbox/FCD/AMcom/Calcenter/Image_Recognition/ImagensOriginais/Monalisa03.jpg',\n",
       "  'dist': 0.4240236309268063},\n",
       " {'id': 'QMsgLmsBw8dpTzCSqBzp',\n",
       "  'score': 5.0,\n",
       "  'metadata': None,\n",
       "  'path': 'https://c2.staticflickr.com/8/7158/6814444991_08d82de57e_z.jpg',\n",
       "  'dist': 0.4240236309268063},\n",
       " {'id': 'X8sxLmsBw8dpTzCSMhzk',\n",
       "  'score': 5.0,\n",
       "  'metadata': None,\n",
       "  'path': '/Users/rodrigolima82/Dropbox/FCD/AMcom/Calcenter/Image_Recognition/ImagensOriginais/Monalisa03.jpg',\n",
       "  'dist': 0.4240236309268063}]"
      ]
     },
     "execution_count": 2,
     "metadata": {},
     "output_type": "execute_result"
    }
   ],
   "source": [
    "# Searching\n",
    "#file_path = '/Users/rodrigolima82/Dropbox/FCD/AMcom/Calcenter/Image_Recognition/ImagensOriginais/Joao.jpg'\n",
    "\n",
    "es = Elasticsearch()\n",
    "ses = SignatureES(es, index='amcom')\n",
    "\n",
    "print('Procurando a imagem')\n",
    "\n",
    "#ses.search_image('https://upload.wikimedia.org/wikipedia/commons/e/e0/Caravaggio_-_Cena_in_Emmaus.jpg')\n",
    "#ses.search_image('http://i.imgur.com/CVYBCCy.jpg')\n",
    "ses.search_image('http://i.imgur.com/T5AusYd.jpg', all_orientations=True)\n",
    "#ses.search_image(file_path, all_orientations=True)\n",
    "\n",
    "#result = ses.search_image(file_path, all_orientations=True)\n",
    "\n",
    "#with open('resultado.txt', 'w') as f:\n",
    "#    f.write(str(result))\n",
    "#    f.flush()\n"
   ]
  },
  {
   "cell_type": "code",
   "execution_count": null,
   "metadata": {},
   "outputs": [],
   "source": []
  }
 ],
 "metadata": {
  "kernelspec": {
   "display_name": "Python 3",
   "language": "python",
   "name": "python3"
  },
  "language_info": {
   "codemirror_mode": {
    "name": "ipython",
    "version": 3
   },
   "file_extension": ".py",
   "mimetype": "text/x-python",
   "name": "python",
   "nbconvert_exporter": "python",
   "pygments_lexer": "ipython3",
   "version": "3.7.3"
  }
 },
 "nbformat": 4,
 "nbformat_minor": 2
}
